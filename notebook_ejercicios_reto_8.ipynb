{
 "cells": [
  {
   "cell_type": "code",
   "execution_count": null,
   "metadata": {},
   "outputs": [],
   "source": [
    "#Imprimir un listado con los números del 1 al 100 cada uno con su respectivo cuadrado.\n",
    "\n",
    "if __name__ == \"__main__\":\n",
    "    for i in range(1,101):\n",
    "        print(f\"{i} al cuadrado es {i**2}\")"
   ]
  },
  {
   "cell_type": "code",
   "execution_count": null,
   "metadata": {},
   "outputs": [],
   "source": [
    "#Imprimir un listado con los números impares desde 1 hasta 999 y seguidamente otro listado con los números pares desde 2 hasta 1000.\n",
    "\n",
    "if __name__ == '__main__':\n",
    "    print(\"Numeros impares desde 1 hasta 999\")\n",
    "    for i in range(1, 1000, 2):\n",
    "        print(i)\n",
    "    print(\"Numeros pares desde 2 hasta 1000\")\n",
    "    for i in range(2, 1001, 2):\n",
    "        print(i)"
   ]
  },
  {
   "cell_type": "code",
   "execution_count": null,
   "metadata": {},
   "outputs": [],
   "source": [
    "#Imprimir los números pares en forma descendente hasta 2 que son menores o iguales a un número natural n ≥ 2 dado\n",
    "\n",
    "if __name__ == '__main__':\n",
    "    numeroN = int(input(\"Ingrese un numero entero: \"))\n",
    "    if numeroN % 2 == 0:\n",
    "        for i in range(numeroN,0,-2):\n",
    "            print(i)\n",
    "    else:\n",
    "        numeroN = numeroN - 1\n",
    "        for i in range(numeroN,0,-2):\n",
    "            print(i)"
   ]
  },
  {
   "cell_type": "code",
   "execution_count": null,
   "metadata": {},
   "outputs": [],
   "source": [
    "def factorial (numeroN = int)->int:\n",
    "    if numeroN == 0:\n",
    "        return 1\n",
    "    else:\n",
    "        return numeroN * factorial(numeroN - 1)    \n",
    "if __name__ == '__main__':\n",
    "    numeroN = int(input(\"Ingrese un numero entero: \"))\n",
    "    print(f\"El factorial de {numeroN} es {factorial(numeroN)}\")"
   ]
  },
  {
   "cell_type": "code",
   "execution_count": null,
   "metadata": {},
   "outputs": [],
   "source": [
    "if __name__ == \"__main__\":\n",
    "    numeroN : int = input(\"ingrese un numero: \")\n",
    "    lista : int = [numeroN]\n",
    "    for n in lista:\n",
    "        print(2**n)"
   ]
  },
  {
   "cell_type": "code",
   "execution_count": null,
   "metadata": {},
   "outputs": [],
   "source": [
    "if __name__ == \"__main__\":\n",
    "    numeroX = float(input(\"ingrese un numero real: \"))\n",
    "    numeroN = int(input(\"ingrese un numero natural(N>=0): \"))\n",
    "    primerX = numeroX\n",
    "    for x in range(1,int(numeroN),1): \n",
    "        numeroX *= numeroX\n",
    "        resultado = numeroX\n",
    "    print(f\"el cuadrado de {primerX} elevado a la {numeroN} es igual a {resultado}\")"
   ]
  },
  {
   "cell_type": "code",
   "execution_count": null,
   "metadata": {},
   "outputs": [],
   "source": [
    "def tablas_de_multiplicar(tablas)->int:\n",
    "    for x in range(0,int(tablas*11),tablas):\n",
    "        if x == tablas*11:\n",
    "            break\n",
    "        print(x)\n",
    "    return 'fin de las tablas'\n",
    "if __name__ == \"__main__\":\n",
    "    tablas = int(input(\"que tabla de multiplicar deseas(1-9):\"))\n",
    "    if tablas <= 10:\n",
    "        print(f\"las tablas de multiplicar del numero {tablas} es :\")\n",
    "        print(tablas_de_multiplicar(tablas))\n",
    "    else: \n",
    "        print(\"solo numeros del 1 al 9 ya lo especifique\")"
   ]
  },
  {
   "cell_type": "code",
   "execution_count": null,
   "metadata": {},
   "outputs": [],
   "source": [
    "import math\n",
    "def factorial (numeroN = int)->int:\n",
    "    if numeroN == 0:\n",
    "        return 1\n",
    "    else:\n",
    "        return numeroN * factorial(numeroN - 1)\n",
    "def funcion_exponencial (numeroX = float, numeroN : int = 160)-> float:\n",
    "    resultado = 0\n",
    "    for i in range(numeroN):\n",
    "        serie_de_maclaurin = (numeroX**i)/(factorial(i))\n",
    "        resultado += serie_de_maclaurin\n",
    "    return resultado\n",
    "def rango_de_error(numeroX, numeroN):\n",
    "    maclaurin = funcion_exponencial(numeroX, numeroN)\n",
    "    math_exp = math.exp(numeroX) \n",
    "    error_relativo = (math_exp - maclaurin) / math_exp\n",
    "    porcentaje_error = abs(error_relativo) * 100\n",
    "    return porcentaje_error\n",
    "if __name__ == \"__main__\":\n",
    "    numeroX = float(input(\"ingrese un numero real: \"))    \n",
    "    resultado = funcion_exponencial(numeroX)\n",
    "    print(f\"resultado de la aproximacion: {resultado} y el resultado real es {math.exp(numeroX)} y el rango de error es {rango_de_error(numeroX,160)}\")"
   ]
  },
  {
   "cell_type": "code",
   "execution_count": null,
   "metadata": {},
   "outputs": [],
   "source": [
    "import math\n",
    "\n",
    "def funcion_seno(numeroX: float, numeroN: float = 20) -> float:\n",
    "    resultado = 0\n",
    "    for n in range(numeroN + 1):\n",
    "        seno_serie_maclaurin = ((-1) ** n) * ((numeroX) ** (2 * n + 1)) / math.factorial(2 * n + 1)\n",
    "        resultado += seno_serie_maclaurin\n",
    "    return resultado\n",
    "\n",
    "if __name__ == \"__main__\":\n",
    "    numeroX = float(input(\"ingrese un numero: \"))\n",
    "    print(f\"el resultado aproximado de la funcion seno es: {funcion_seno(numeroX)}, el verdadero es: {math.sin(numeroX)}\")"
   ]
  },
  {
   "cell_type": "code",
   "execution_count": null,
   "metadata": {},
   "outputs": [],
   "source": [
    "import math\n",
    "def funcion_arctan(numeroX, numeroN=200):\n",
    "    series = 0\n",
    "    for i in range( numeroN+1):\n",
    "        termino = (-1)**i\n",
    "        arctan_series_maclaurin = (numeroX**((2*i)+1))/(2*i+1)\n",
    "        series += termino * arctan_series_maclaurin\n",
    "    return series\n",
    "def rango_de_error(numeroX, numeroN):\n",
    "    maclaurin = funcion_arctan(numeroX, numeroN)\n",
    "    math_arctan = math.atan(numeroX)\n",
    "    error_relativo = (math_arctan - maclaurin) / math_arctan\n",
    "    porcentaje_error = abs(error_relativo) * 100\n",
    "    return porcentaje_error\n",
    "if __name__ == \"__main__\":\n",
    "    numeroX = float(input(\"ingrese un numeroen el rango(-1,1): \"))\n",
    "    if numeroX >1 or numeroX <-1:\n",
    "        print(\"el numero ingresado no esta en el rango\")\n",
    "        exit()\n",
    "    else:\n",
    "        print(f\"el resultado de la funcion arctan aproximada es {funcion_arctan(numeroX,)}, y el real es {math.atan(numeroX)} y el rango de error es aprox: {rango_de_error(numeroX, 200)}\")"
   ]
  }
 ],
 "metadata": {
  "language_info": {
   "name": "python"
  }
 },
 "nbformat": 4,
 "nbformat_minor": 2
}
